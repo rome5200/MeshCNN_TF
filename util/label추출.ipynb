{
 "cells": [
  {
   "cell_type": "code",
   "execution_count": null,
   "id": "8cf7c42f-7c0c-40c9-964c-065ed42529dd",
   "metadata": {},
   "outputs": [],
   "source": [
    "import os\n",
    "import numpy as np\n",
    "import trimesh\n",
    "\n",
    "def world_to_voxel(coords, origin, spacing):\n",
    "    \"\"\"World 좌표를 voxel 인덱스로 변환\"\"\"\n",
    "    return ((coords - origin) / spacing).round().astype(int)\n",
    "\n",
    "def label_faces_from_mask(mesh_folder, mask_folder, output_folder, spacing=(1.0, 1.0, 1.0)):\n",
    "    os.makedirs(output_folder, exist_ok=True)\n",
    "\n",
    "    mesh_files = [f for f in os.listdir(mesh_folder) if f.endswith('.obj')]\n",
    "\n",
    "    for mesh_file in mesh_files:\n",
    "        base_name = os.path.splitext(mesh_file)[0]\n",
    "        mesh_path = os.path.join(mesh_folder, mesh_file)\n",
    "        mask_path = os.path.join(mask_folder, base_name + \".npy\")\n",
    "\n",
    "        if not os.path.exists(mask_path):\n",
    "            print(f\"❌ 마스크 없음: {mask_path}\")\n",
    "            continue\n",
    "\n",
    "        # Load mesh and mask\n",
    "        mesh = trimesh.load(mesh_path)\n",
    "        mask = np.load(mask_path)\n",
    "        mask_shape = mask.shape\n",
    "        spacing = np.array(spacing)\n",
    "\n",
    "        # 중심 기반 origin 추정\n",
    "        mask_center = np.array(mask_shape) / 2\n",
    "        mesh_center = mesh.centroid\n",
    "        origin = mesh_center - mask_center * spacing\n",
    "\n",
    "        # face 중심 → voxel 좌표\n",
    "        face_centers = mesh.vertices[mesh.faces].mean(axis=1)\n",
    "        face_voxels = world_to_voxel(face_centers, origin, spacing)\n",
    "\n",
    "        # 유효 영역 마스크\n",
    "        D, H, W = mask_shape\n",
    "        valid_mask = (\n",
    "            (face_voxels[:, 0] >= 0) & (face_voxels[:, 0] < D) &\n",
    "            (face_voxels[:, 1] >= 0) & (face_voxels[:, 1] < H) &\n",
    "            (face_voxels[:, 2] >= 0) & (face_voxels[:, 2] < W)\n",
    "        )\n",
    "\n",
    "        # face 레이블 생성\n",
    "        face_labels = np.zeros(len(mesh.faces), dtype=np.int64)\n",
    "        valid_coords = face_voxels[valid_mask]\n",
    "        mask_values = mask[valid_coords[:, 0], valid_coords[:, 1], valid_coords[:, 2]]\n",
    "        face_labels[valid_mask] = mask_values.astype(np.int64)\n",
    "\n",
    "        # 저장\n",
    "        label_path = os.path.join(output_folder, base_name + \"_label.npy\")\n",
    "        np.save(label_path, face_labels)\n",
    "        print(f\"✅ 저장됨: {label_path} (결절 face: {face_labels.sum()})\")\n"
   ]
  },
  {
   "cell_type": "code",
   "execution_count": null,
   "id": "6b433641-d5de-4586-b374-e95de379c907",
   "metadata": {},
   "outputs": [],
   "source": [
    "label_faces_from_mask(\n",
    "    mesh_folder=\"/path/to/mesh\",        # .obj 파일들이 있는 폴더\n",
    "    mask_folder=\"/path/to/masks\",       # .npy 마스크가 있는 폴더\n",
    "    output_folder=\"/path/to/output\",    # 결과 라벨 저장 위치\n",
    "    spacing=(1.0, 1.0, 1.0)             # voxel 해상도\n",
    ")"
   ]
  }
 ],
 "metadata": {
  "kernelspec": {
   "display_name": "project2025",
   "language": "python",
   "name": "project2025"
  },
  "language_info": {
   "codemirror_mode": {
    "name": "ipython",
    "version": 3
   },
   "file_extension": ".py",
   "mimetype": "text/x-python",
   "name": "python",
   "nbconvert_exporter": "python",
   "pygments_lexer": "ipython3",
   "version": "3.9.21"
  }
 },
 "nbformat": 4,
 "nbformat_minor": 5
}
