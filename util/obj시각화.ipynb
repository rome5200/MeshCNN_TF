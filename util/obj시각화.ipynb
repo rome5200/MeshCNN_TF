{
 "cells": [
  {
   "cell_type": "code",
   "execution_count": 1,
   "id": "ccfa570c-d1b2-4628-a12a-1b11f5d8e1c2",
   "metadata": {
    "tags": []
   },
   "outputs": [
    {
     "name": "stdout",
     "output_type": "stream",
     "text": [
      "Jupyter environment detected. Enabling Open3D WebVisualizer.\n",
      "[Open3D INFO] WebRTC GUI backend enabled.\n",
      "[Open3D INFO] WebRTCWindowSystem: HTTP handshake server disabled.\n",
      "🔍 시각화 중: A0083_abnormal.obj\n",
      "🔍 시각화 중: A0083_normal.obj\n",
      "🔍 시각화 중: A0087_abnormal.obj\n",
      "🔍 시각화 중: A0087_normal.obj\n",
      "🔍 시각화 중: A0103_abnormal.obj\n",
      "🔍 시각화 중: A0103_normal.obj\n",
      "🔍 시각화 중: A0106_abnormal.obj\n",
      "🔍 시각화 중: A0106_normal.obj\n",
      "🔍 시각화 중: A0117_abnormal.obj\n",
      "🔍 시각화 중: A0117_normal.obj\n",
      "🔍 시각화 중: A0126_abnormal.obj\n",
      "🔍 시각화 중: A0126_normal.obj\n",
      "🔍 시각화 중: A0165_abnormal.obj\n",
      "🔍 시각화 중: A0165_normal.obj\n"
     ]
    },
    {
     "ename": "KeyboardInterrupt",
     "evalue": "",
     "output_type": "error",
     "traceback": [
      "\u001b[1;31m---------------------------------------------------------------------------\u001b[0m",
      "\u001b[1;31mKeyboardInterrupt\u001b[0m                         Traceback (most recent call last)",
      "Cell \u001b[1;32mIn[1], line 45\u001b[0m\n\u001b[0;32m     42\u001b[0m labels \u001b[38;5;241m=\u001b[39m np\u001b[38;5;241m.\u001b[39mload(label_path)\n\u001b[0;32m     44\u001b[0m \u001b[38;5;28mprint\u001b[39m(\u001b[38;5;124mf\u001b[39m\u001b[38;5;124m\"\u001b[39m\u001b[38;5;124m🔍 시각화 중: \u001b[39m\u001b[38;5;132;01m{\u001b[39;00mmesh_file\u001b[38;5;132;01m}\u001b[39;00m\u001b[38;5;124m\"\u001b[39m)\n\u001b[1;32m---> 45\u001b[0m \u001b[43mvisualize_mesh_with_red_labels\u001b[49m\u001b[43m(\u001b[49m\u001b[43mmesh\u001b[49m\u001b[43m,\u001b[49m\u001b[43m \u001b[49m\u001b[43mlabels\u001b[49m\u001b[43m,\u001b[49m\u001b[43m \u001b[49m\u001b[43mtitle\u001b[49m\u001b[38;5;241;43m=\u001b[39;49m\u001b[43mmesh_file\u001b[49m\u001b[43m)\u001b[49m\n",
      "\u001b[1;31mKeyboardInterrupt\u001b[0m: "
     ]
    }
   ],
   "source": [
    "import os\n",
    "import numpy as np\n",
    "import open3d as o3d\n",
    "\n",
    "# 디렉토리 설정\n",
    "mesh_dir = r\"C:\\Users\\konyang\\Desktop\\MeshCNN_TF\\data\\dataset\\simplified_mesh\"\n",
    "label_dir = r\"C:\\Users\\konyang\\Desktop\\MeshCNN_TF\\data\\dataset\\simplified_label\"\n",
    "\n",
    "# 시각화 함수 (불투명 회색 메쉬 + 빨간 라벨)\n",
    "def visualize_mesh_with_red_labels(mesh, labels, title=\"Labeled Mesh\"):\n",
    "    face_colors = np.ones((len(mesh.triangles), 3)) * 0.4  # 연한 회색\n",
    "    label_indices = np.where(labels > 0)[0]\n",
    "    face_colors[label_indices] = [1.0, 0.0, 0.0]  # 빨강\n",
    "\n",
    "    vertex_colors = np.zeros((len(mesh.vertices), 3))\n",
    "    count = np.zeros(len(mesh.vertices))\n",
    "    faces = np.asarray(mesh.triangles)\n",
    "\n",
    "    for i, tri in enumerate(faces):\n",
    "        for v in tri:\n",
    "            vertex_colors[v] += face_colors[i]\n",
    "            count[v] += 1\n",
    "\n",
    "    count[count == 0] = 1\n",
    "    vertex_colors /= count[:, None]\n",
    "\n",
    "    mesh.vertex_colors = o3d.utility.Vector3dVector(vertex_colors)\n",
    "    o3d.visualization.draw_geometries([mesh], window_name=title)\n",
    "\n",
    "# 전체 파일 반복 시각화\n",
    "mesh_files = [f for f in os.listdir(mesh_dir) if f.endswith('.obj')]\n",
    "\n",
    "for mesh_file in mesh_files:\n",
    "    mesh_path = os.path.join(mesh_dir, mesh_file)\n",
    "    label_path = os.path.join(label_dir, mesh_file.replace(\".obj\", \"_label.npy\"))\n",
    "\n",
    "    if not os.path.exists(mesh_path) or not os.path.exists(label_path):\n",
    "        print(f\"❌ 파일 누락: {mesh_file}\")\n",
    "        continue\n",
    "\n",
    "    mesh = o3d.io.read_triangle_mesh(mesh_path)\n",
    "    labels = np.load(label_path)\n",
    "\n",
    "    print(f\"🔍 시각화 중: {mesh_file}\")\n",
    "    visualize_mesh_with_red_labels(mesh, labels, title=mesh_file)\n",
    "\n"
   ]
  },
  {
   "cell_type": "code",
   "execution_count": 6,
   "id": "4326eb86-0b3c-4d2e-b6c6-730fba77a731",
   "metadata": {
    "tags": []
   },
   "outputs": [
    {
     "name": "stdout",
     "output_type": "stream",
     "text": [
      "❌ 메쉬 파일 없음: C:\\Users\\konyang\\Desktop\\MeshCNN_TF\\data\\dataset\\mesh\\A0173_abnormal_label.npy\n"
     ]
    }
   ],
   "source": [
    "import os\n",
    "import numpy as np\n",
    "import open3d as o3d\n",
    "\n",
    "# ✅ 대상 파일 이름 (확장자 포함 X)\n",
    "#target_name = \"A0173_abnormal\"\n",
    "\n",
    "# ✅ 경로 설정\n",
    "#mesh_dir = r\"C:\\Users\\konyang\\Desktop\\MeshCNN_TF\\data\\dataset\\mesh\"\n",
    "#label_dir = r\"C:\\Users\\konyang\\Desktop\\MeshCNN_TF\\data\\dataset\\label\"\n",
    "\n",
    "\n",
    "#mesh_path = os.path.join(mesh_dir, target_name + \".obj\")\n",
    "#label_path = os.path.join(label_dir, target_name + \"_label.npy\")\n",
    "mesh_path = r\"C:\\Users\\konyang\\Desktop\\MeshCNN_TF\\data\\dataset\\mesh\\A0173_abnormal_label.npy\"\n",
    "label_path = r\"C:\\Users\\konyang\\Desktop\\MeshCNN_TF\\data\\dataset\\lebel\\A0173_abnormal_label.npy\"\n",
    "\n",
    "# ✅ 시각화 함수 정의\n",
    "def visualize_mesh_with_red_labels(mesh, labels, title=\"Labeled Mesh\"):\n",
    "    face_colors = np.ones((len(mesh.triangles), 3)) * 0.4  # 연한 회색\n",
    "    label_indices = np.where(labels > 0)[0]\n",
    "    face_colors[label_indices] = [1.0, 0.0, 0.0]  # 빨강\n",
    "\n",
    "    vertex_colors = np.zeros((len(mesh.vertices), 3))\n",
    "    count = np.zeros(len(mesh.vertices))\n",
    "    faces = np.asarray(mesh.triangles)\n",
    "\n",
    "    for i, tri in enumerate(faces):\n",
    "        for v in tri:\n",
    "            vertex_colors[v] += face_colors[i]\n",
    "            count[v] += 1\n",
    "\n",
    "    count[count == 0] = 1\n",
    "    vertex_colors /= count[:, None]\n",
    "\n",
    "    mesh.vertex_colors = o3d.utility.Vector3dVector(vertex_colors)\n",
    "    o3d.visualization.draw_geometries([mesh], window_name=title)\n",
    "\n",
    "# ✅ 파일 존재 확인 후 시각화 실행\n",
    "if not os.path.exists(mesh_path):\n",
    "    print(f\"❌ 메쉬 파일 없음: {mesh_path}\")\n",
    "elif not os.path.exists(label_path):\n",
    "    print(f\"❌ 라벨 파일 없음: {label_path}\")\n",
    "else:\n",
    "    print(f\"🔍 시각화 중: {target_name}\")\n",
    "    mesh = o3d.io.read_triangle_mesh(mesh_path)\n",
    "    labels = np.load(label_path)\n",
    "    visualize_mesh_with_red_labels(mesh, labels, title=target_name)\n"
   ]
  },
  {
   "cell_type": "code",
   "execution_count": null,
   "id": "3f321762-cb8f-4e77-9772-75cd81edc656",
   "metadata": {},
   "outputs": [],
   "source": []
  }
 ],
 "metadata": {
  "kernelspec": {
   "display_name": "project2025",
   "language": "python",
   "name": "project2025"
  },
  "language_info": {
   "codemirror_mode": {
    "name": "ipython",
    "version": 3
   },
   "file_extension": ".py",
   "mimetype": "text/x-python",
   "name": "python",
   "nbconvert_exporter": "python",
   "pygments_lexer": "ipython3",
   "version": "3.9.21"
  }
 },
 "nbformat": 4,
 "nbformat_minor": 5
}
