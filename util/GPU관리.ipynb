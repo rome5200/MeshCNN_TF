{
 "cells": [
  {
   "cell_type": "code",
   "execution_count": 1,
   "id": "8e31303a-675d-4925-b24d-855ca22d11ca",
   "metadata": {
    "tags": []
   },
   "outputs": [
    {
     "name": "stdout",
     "output_type": "stream",
     "text": [
      "PyTorch version: 1.7.1+cu110\n",
      "CUDA available: True\n",
      "CUDA version: 11.0\n"
     ]
    },
    {
     "name": "stderr",
     "output_type": "stream",
     "text": [
      "C:\\ProgramData\\anaconda3\\envs\\project2025\\lib\\site-packages\\tqdm\\auto.py:21: TqdmWarning: IProgress not found. Please update jupyter and ipywidgets. See https://ipywidgets.readthedocs.io/en/stable/user_install.html\n",
      "  from .autonotebook import tqdm as notebook_tqdm\n"
     ]
    }
   ],
   "source": [
    "import torch\n",
    "print(\"PyTorch version:\", torch.__version__)\n",
    "print(\"CUDA available:\", torch.cuda.is_available())\n",
    "print(\"CUDA version:\", torch.version.cuda)"
   ]
  },
  {
   "cell_type": "code",
   "execution_count": 2,
   "id": "6e691b76-c694-462f-8c54-0a118e8915a9",
   "metadata": {
    "tags": []
   },
   "outputs": [],
   "source": [
    "import torch\n",
    "torch.cuda.empty_cache()\n"
   ]
  },
  {
   "cell_type": "code",
   "execution_count": 3,
   "id": "8c66b272-8722-498d-bbcd-3a9241630550",
   "metadata": {
    "tags": []
   },
   "outputs": [
    {
     "name": "stdout",
     "output_type": "stream",
     "text": [
      "총 메모리: 8.00 GB\n",
      "예약 메모리: 0.00 GB\n",
      "사용 중 메모리: 0.00 GB\n",
      "사용 가능 메모리: 0.00 GB\n"
     ]
    }
   ],
   "source": [
    "\n",
    "if torch.cuda.is_available():\n",
    "    gpu_idx = 0  # 사용할 GPU 번호\n",
    "    total = torch.cuda.get_device_properties(gpu_idx).total_memory\n",
    "    reserved = torch.cuda.memory_reserved(gpu_idx)\n",
    "    allocated = torch.cuda.memory_allocated(gpu_idx)\n",
    "    free = reserved - allocated\n",
    "\n",
    "    print(f\"총 메모리: {total / (1024**3):.2f} GB\")\n",
    "    print(f\"예약 메모리: {reserved / (1024**3):.2f} GB\")\n",
    "    print(f\"사용 중 메모리: {allocated / (1024**3):.2f} GB\")\n",
    "    print(f\"사용 가능 메모리: {free / (1024**3):.2f} GB\")\n",
    "else:\n",
    "    print(\"CUDA를 사용할 수 없습니다.\")"
   ]
  },
  {
   "cell_type": "code",
   "execution_count": null,
   "id": "c2042020-aeb0-43f7-92c0-7d1ed53b5559",
   "metadata": {},
   "outputs": [],
   "source": []
  }
 ],
 "metadata": {
  "kernelspec": {
   "display_name": "project2025",
   "language": "python",
   "name": "project2025"
  },
  "language_info": {
   "codemirror_mode": {
    "name": "ipython",
    "version": 3
   },
   "file_extension": ".py",
   "mimetype": "text/x-python",
   "name": "python",
   "nbconvert_exporter": "python",
   "pygments_lexer": "ipython3",
   "version": "3.9.21"
  }
 },
 "nbformat": 4,
 "nbformat_minor": 5
}
