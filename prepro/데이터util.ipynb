{
 "cells": [
  {
   "cell_type": "code",
   "execution_count": 1,
   "id": "a90cfaaa-d5f7-4d76-a5d2-9533017182c3",
   "metadata": {
    "tags": []
   },
   "outputs": [
    {
     "name": "stdout",
     "output_type": "stream",
     "text": [
      "총 샘플: 75\n",
      "➡️ train: 52, val: 15, test: 8\n",
      "📦 이동: A0223 → val/\n",
      "📦 이동: A0241 → val/\n",
      "📦 이동: A0235 → val/\n",
      "📦 이동: A0248 → val/\n",
      "📦 이동: A0177 → val/\n",
      "📦 이동: G0053 → val/\n",
      "📦 이동: A0087 → val/\n",
      "📦 이동: A0229 → val/\n",
      "📦 이동: A0217 → val/\n",
      "📦 이동: G0059 → val/\n",
      "📦 이동: G0048 → val/\n",
      "📦 이동: G0046 → val/\n",
      "📦 이동: G0056 → val/\n",
      "📦 이동: A0117 → val/\n",
      "📦 이동: B0033 → val/\n",
      "📦 이동: A0176 → test/\n",
      "📦 이동: A0180 → test/\n",
      "📦 이동: A0191 → test/\n",
      "📦 이동: A0208 → test/\n",
      "📦 이동: A0216 → test/\n",
      "📦 이동: A0225 → test/\n",
      "📦 이동: A0106 → test/\n",
      "📦 이동: A0181 → test/\n"
     ]
    }
   ],
   "source": [
    "import os\n",
    "import shutil\n",
    "import random\n",
    "\n",
    "def split_dataset(source_dir, target_root, train_ratio=0.7, val_ratio=0.2, test_ratio=0.1, seed=42):\n",
    "    random.seed(seed)\n",
    "\n",
    "    # 1. 샘플 폴더 리스트 수집\n",
    "    all_samples = [name for name in os.listdir(source_dir)\n",
    "                   if os.path.isdir(os.path.join(source_dir, name))]\n",
    "    total = len(all_samples)\n",
    "    random.shuffle(all_samples)\n",
    "\n",
    "    # 2. 개수 계산\n",
    "    train_count = int(total * train_ratio)\n",
    "    val_count = int(total * val_ratio)\n",
    "    test_count = total - train_count - val_count\n",
    "\n",
    "    train_samples = all_samples[:train_count]\n",
    "    val_samples = all_samples[train_count:train_count + val_count]\n",
    "    test_samples = all_samples[train_count + val_count:]\n",
    "\n",
    "    print(f\"총 샘플: {total}\")\n",
    "    print(f\"➡️ train: {len(train_samples)}, val: {len(val_samples)}, test: {len(test_samples)}\")\n",
    "\n",
    "    # 3. 디렉토리 생성 및 이동\n",
    "    for split, sample_list in zip(['train', 'val', 'test'],\n",
    "                                  [train_samples, val_samples, test_samples]):\n",
    "        split_dir = os.path.join(target_root, split)\n",
    "        os.makedirs(split_dir, exist_ok=True)\n",
    "\n",
    "        for sample_id in sample_list:\n",
    "            src = os.path.join(source_dir, sample_id)\n",
    "            dst = os.path.join(split_dir, sample_id)\n",
    "            if not os.path.exists(dst):\n",
    "                shutil.move(src, dst)\n",
    "                print(f\"📦 이동: {sample_id} → {split}/\")\n",
    "\n",
    "# -----------------------\n",
    "# 실행 예시\n",
    "# -----------------------\n",
    "if __name__ == \"__main__\":\n",
    "    split_dataset(\n",
    "        source_dir=\"C:/Users/konyang/Desktop/data/train\",\n",
    "        target_root=\"C:/Users/konyang/Desktop/data\"\n",
    "    )\n"
   ]
  },
  {
   "cell_type": "code",
   "execution_count": null,
   "id": "64ff879c-dbb1-4cbc-a48f-f2ee9ea52b1b",
   "metadata": {},
   "outputs": [],
   "source": []
  }
 ],
 "metadata": {
  "kernelspec": {
   "display_name": "project2025",
   "language": "python",
   "name": "project2025"
  },
  "language_info": {
   "codemirror_mode": {
    "name": "ipython",
    "version": 3
   },
   "file_extension": ".py",
   "mimetype": "text/x-python",
   "name": "python",
   "nbconvert_exporter": "python",
   "pygments_lexer": "ipython3",
   "version": "3.9.21"
  }
 },
 "nbformat": 4,
 "nbformat_minor": 5
}
