{
 "cells": [
  {
   "cell_type": "code",
   "execution_count": 3,
   "id": "3b6bb7f4-8f9c-4550-9cd8-58d6717b1507",
   "metadata": {
    "tags": []
   },
   "outputs": [
    {
     "name": "stdout",
     "output_type": "stream",
     "text": [
      "<class 'dict'>\n",
      "{'vertices': array([[-0.48082334,  0.37159455, -0.70700103],\n",
      "       [-0.47622702,  0.4681174 , -0.5047627 ],\n",
      "       [-0.46703437,  0.4359431 , -0.5920929 ],\n",
      "       ...,\n",
      "       [ 0.53496456, -0.18915713,  0.07897058],\n",
      "       [ 0.55334985, -0.2213314 ,  0.04679631],\n",
      "       [ 0.5625425 , -0.1110196 ,  0.05598896]], dtype=float32), 'faces': array([[0, 0, 0],\n",
      "       [0, 0, 0],\n",
      "       [0, 0, 0],\n",
      "       ...,\n",
      "       [0, 0, 0],\n",
      "       [0, 0, 0],\n",
      "       [0, 0, 0]]), 'normals': array([[0., 0., 1.],\n",
      "       [0., 0., 1.],\n",
      "       [0., 0., 1.],\n",
      "       ...,\n",
      "       [0., 0., 1.],\n",
      "       [0., 0., 1.],\n",
      "       [0., 0., 1.]], dtype=float32), 'features': array([[0., 0., 1., 0., 0.],\n",
      "       [0., 0., 1., 0., 0.],\n",
      "       [0., 0., 1., 0., 0.],\n",
      "       ...,\n",
      "       [0., 0., 1., 0., 0.],\n",
      "       [0., 0., 1., 0., 0.],\n",
      "       [0., 0., 1., 0., 0.]], dtype=float32)}\n"
     ]
    }
   ],
   "source": [
    "import pickle\n",
    "\n",
    "with open(\"C:/Users/konyang/Desktop/MeshCNN_TF/data/cache/train/A0087_abnormal_2269.pkl\", 'rb') as f:\n",
    "    obj = pickle.load(f)\n",
    "\n",
    "# 타입과 구조 확인\n",
    "print(type(obj))\n",
    "print(obj)\n"
   ]
  },
  {
   "cell_type": "code",
   "execution_count": 12,
   "id": "60c753a1-aa9f-480b-996d-11bb1ed45c48",
   "metadata": {
    "tags": []
   },
   "outputs": [
    {
     "name": "stdout",
     "output_type": "stream",
     "text": [
      "✅ 캐시된 파일 수: 100\n"
     ]
    }
   ],
   "source": [
    "from pathlib import Path\n",
    "cache_files = list(Path(\"C:/Users/konyang/Desktop/MeshCNN_TF/data/cache/train\").glob(\"*.pkl\"))\n",
    "print(f\"✅ 캐시된 파일 수: {len(cache_files)}\")\n"
   ]
  },
  {
   "cell_type": "code",
   "execution_count": null,
   "id": "56f0e9bb-cac3-49d1-9317-57a124a0bf50",
   "metadata": {},
   "outputs": [],
   "source": []
  }
 ],
 "metadata": {
  "kernelspec": {
   "display_name": "project2025",
   "language": "python",
   "name": "project2025"
  },
  "language_info": {
   "codemirror_mode": {
    "name": "ipython",
    "version": 3
   },
   "file_extension": ".py",
   "mimetype": "text/x-python",
   "name": "python",
   "nbconvert_exporter": "python",
   "pygments_lexer": "ipython3",
   "version": "3.9.21"
  }
 },
 "nbformat": 4,
 "nbformat_minor": 5
}
