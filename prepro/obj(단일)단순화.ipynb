{
 "cells": [
  {
   "cell_type": "code",
   "execution_count": 11,
   "id": "ce509530-4788-4257-ad43-f0632c30c793",
   "metadata": {
    "tags": []
   },
   "outputs": [],
   "source": [
    "import open3d as o3d\n",
    "import numpy as np\n",
    "from scipy.spatial import cKDTree\n",
    "import os\n"
   ]
  },
  {
   "cell_type": "code",
   "execution_count": 13,
   "id": "d09d721f-77fc-4fa7-9aeb-baee2ea167b8",
   "metadata": {
    "tags": []
   },
   "outputs": [
    {
     "name": "stdout",
     "output_type": "stream",
     "text": [
      "Original Mesh: 359636 faces, Labels: 359636\n"
     ]
    }
   ],
   "source": [
    "# 파일 경로 설정\n",
    "mesh_path = \"C:/Users/konyang/Desktop/MeshCNN_TF/data/dataset/mesh/A0083_abnormal.obj\"\n",
    "label_path = \"C:/Users/konyang/Desktop/MeshCNN_TF/data/dataset/lebel/A0083_abnormal_label.npy\"\n",
    "\n",
    "# 메쉬 불러오기\n",
    "mesh_o3d = o3d.io.read_triangle_mesh(mesh_path)\n",
    "mesh_o3d.compute_vertex_normals()\n",
    "\n",
    "# 라벨 불러오기\n",
    "labels = np.load(label_path)\n",
    "print(f\"Original Mesh: {len(mesh_o3d.triangles)} faces, Labels: {len(labels)}\")\n"
   ]
  },
  {
   "cell_type": "code",
   "execution_count": 14,
   "id": "7a085165-8335-4d18-bc4d-fb3876cc3a14",
   "metadata": {
    "tags": []
   },
   "outputs": [
    {
     "name": "stdout",
     "output_type": "stream",
     "text": [
      "Simplified Mesh: 9999 faces\n"
     ]
    }
   ],
   "source": [
    "# 목표 면 수 설정 (정점 5,000개 정도를 목표로)\n",
    "target_face_count = 10000\n",
    "\n",
    "# 단순화\n",
    "simplified_o3d = mesh_o3d.simplify_quadric_decimation(target_number_of_triangles=target_face_count)\n",
    "print(f\"Simplified Mesh: {len(simplified_o3d.triangles)} faces\")\n"
   ]
  },
  {
   "cell_type": "code",
   "execution_count": 15,
   "id": "8cd9d39f-6fef-423c-bc0b-580c7d53fc8d",
   "metadata": {
    "tags": []
   },
   "outputs": [],
   "source": [
    "# 원본 메쉬의 면 중심점\n",
    "original_faces = np.asarray(mesh_o3d.triangles)\n",
    "original_vertices = np.asarray(mesh_o3d.vertices)\n",
    "original_centroids = original_vertices[original_faces].mean(axis=1)\n",
    "\n",
    "# 단순화된 메쉬의 면 중심점\n",
    "simplified_faces = np.asarray(simplified_o3d.triangles)\n",
    "simplified_vertices = np.asarray(simplified_o3d.vertices)\n",
    "simplified_centroids = simplified_vertices[simplified_faces].mean(axis=1)\n",
    "\n",
    "# 최근접 원본 면 탐색 (KDTree)\n",
    "tree = cKDTree(original_centroids)\n",
    "_, idx = tree.query(simplified_centroids)\n"
   ]
  },
  {
   "cell_type": "code",
   "execution_count": 16,
   "id": "93614f5a-e8ce-4ed5-9c34-bf50e1387ccf",
   "metadata": {
    "tags": []
   },
   "outputs": [
    {
     "name": "stdout",
     "output_type": "stream",
     "text": [
      "[Open3D WARNING] Write OBJ can not include triangle normals.\n",
      "Saved:\n",
      "- Mesh: C:\\Users\\konyang\\Desktop\\MeshCNN_TF\\data\\dataset\\label_map\\A0083_abnormal_simplified.obj\n",
      "- Labels: C:\\Users\\konyang\\Desktop\\MeshCNN_TF\\data\\dataset\\label_map\\A0083_abnormal_simplified_label.npy\n"
     ]
    }
   ],
   "source": [
    "# 라벨 재배열\n",
    "simplified_labels = labels[idx]\n",
    "\n",
    "# 저장 경로 설정\n",
    "save_dir = r\"C:\\Users\\konyang\\Desktop\\MeshCNN_TF\\data\\dataset\\label_map\"\n",
    "os.makedirs(save_dir, exist_ok=True)\n",
    "\n",
    "# 파일 저장\n",
    "mesh_save_path = os.path.join(save_dir, \"A0083_abnormal_simplified.obj\")\n",
    "label_save_path = os.path.join(save_dir, \"A0083_abnormal_simplified_label.npy\")\n",
    "\n",
    "o3d.io.write_triangle_mesh(mesh_save_path, simplified_o3d)\n",
    "np.save(label_save_path, simplified_labels)\n",
    "\n",
    "print(f\"Saved:\\n- Mesh: {mesh_save_path}\\n- Labels: {label_save_path}\")\n"
   ]
  },
  {
   "cell_type": "code",
   "execution_count": 19,
   "id": "5683b992-7e5a-46f6-8f7b-4cededae62dc",
   "metadata": {
    "tags": []
   },
   "outputs": [
    {
     "name": "stdout",
     "output_type": "stream",
     "text": [
      "Simplified Mesh - Vertices: 3676, Faces: 9999\n"
     ]
    }
   ],
   "source": [
    "# 단순화된 메쉬 경로\n",
    "simplified_mesh_path = r\"C:\\Users\\konyang\\Desktop\\MeshCNN_TF\\data\\dataset\\label_map\\A0083_abnormal_simplified.obj\"\n",
    "\n",
    "# 메쉬 불러오기\n",
    "mesh = o3d.io.read_triangle_mesh(simplified_mesh_path)\n",
    "\n",
    "# 정점 수와 면 수 출력\n",
    "num_vertices = len(mesh.vertices)\n",
    "num_faces = len(mesh.triangles)\n",
    "\n",
    "print(f\"Simplified Mesh - Vertices: {num_vertices}, Faces: {num_faces}\")"
   ]
  },
  {
   "cell_type": "code",
   "execution_count": null,
   "id": "ca716f5c-2927-4d84-8c19-19aaddfe402d",
   "metadata": {},
   "outputs": [],
   "source": []
  }
 ],
 "metadata": {
  "kernelspec": {
   "display_name": "project2025",
   "language": "python",
   "name": "project2025"
  },
  "language_info": {
   "codemirror_mode": {
    "name": "ipython",
    "version": 3
   },
   "file_extension": ".py",
   "mimetype": "text/x-python",
   "name": "python",
   "nbconvert_exporter": "python",
   "pygments_lexer": "ipython3",
   "version": "3.9.21"
  }
 },
 "nbformat": 4,
 "nbformat_minor": 5
}
